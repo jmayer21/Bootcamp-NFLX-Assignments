{
 "cells": [
  {
   "cell_type": "code",
   "execution_count": 1,
   "metadata": {},
   "outputs": [],
   "source": [
    "# Import the 'os' and 'csv' libraries\n",
    "import os\n",
    "import csv"
   ]
  },
  {
   "cell_type": "code",
   "execution_count": 6,
   "metadata": {},
   "outputs": [],
   "source": [
    "# Set path for importing the CSV file\n",
    "csvpath = os.path.join('./','Resources/','yahoo_stock.csv')"
   ]
  },
  {
   "cell_type": "code",
   "execution_count": 12,
   "metadata": {},
   "outputs": [
    {
     "name": "stdout",
     "output_type": "stream",
     "text": [
      "3/13/2020 was the day with the greatest daily percent change of 5.49%.\n",
      "Day High: 2711.330078\n",
      "Day Low: 2492.370117\n",
      "Volume: 8258670000\n"
     ]
    }
   ],
   "source": [
    "# Open a connection to the comma-delimited csv file\n",
    "with open(csvpath,'r') as csvfile:\n",
    "\n",
    "    # Read in the CSV file using csv.DictReader() class\n",
    "    csvreader = csv.DictReader(csvfile, delimiter=',')\n",
    "    \n",
    "    # Create a variable to save our print row and greatest daily percent change\n",
    "    max_pct = 0\n",
    "    printrow = {}\n",
    "    \n",
    "    # Iterate through each row\n",
    "    for row in csvreader:\n",
    "        \n",
    "        # For each row, calculate the daily percent change\n",
    "        pct_change = round(((float(row['Close']) - float(row['Open'])) / float(row['Open']))*100,2)\n",
    "        \n",
    "        # Check if the absolute daily percent change is greater than the previous max\n",
    "        if abs(pct_change) > max_pct:\n",
    "            \n",
    "            # If true, store new greatest daily percent change and print row\n",
    "            max_pct = pct_change\n",
    "            printrow = row\n",
    "            \n",
    "    # Print out the date, stock high, stock low, volume and percent change for the day with the greatest percent change\n",
    "    print(f\"{printrow['Date']} was the day with the greatest daily percent change of {max_pct}%.\")\n",
    "    print(f\"Day High: {printrow['High']}\")\n",
    "    print(f\"Day Low: {printrow['Low']}\")\n",
    "    print(f\"Volume: {printrow['Volume']}\")"
   ]
  },
  {
   "cell_type": "code",
   "execution_count": null,
   "metadata": {},
   "outputs": [],
   "source": []
  }
 ],
 "metadata": {
  "kernelspec": {
   "display_name": "Python 3",
   "language": "python",
   "name": "python3"
  },
  "language_info": {
   "codemirror_mode": {
    "name": "ipython",
    "version": 3
   },
   "file_extension": ".py",
   "mimetype": "text/x-python",
   "name": "python",
   "nbconvert_exporter": "python",
   "pygments_lexer": "ipython3",
   "version": "3.8.8"
  }
 },
 "nbformat": 4,
 "nbformat_minor": 4
}
