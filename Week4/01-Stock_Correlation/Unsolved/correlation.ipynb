{
 "cells": [
  {
   "cell_type": "code",
   "execution_count": 53,
   "metadata": {},
   "outputs": [],
   "source": [
    "# Import libraries and dependencies\n",
    "import pandas\n",
    "import os\n",
    "import seaborn as sns\n",
    "import matplotlib.pyplot as plt "
   ]
  },
  {
   "cell_type": "code",
   "execution_count": 44,
   "metadata": {},
   "outputs": [
    {
     "name": "stdout",
     "output_type": "stream",
     "text": [
      "<class 'pandas.core.frame.DataFrame'>\n",
      "RangeIndex: 2517 entries, 0 to 2516\n",
      "Data columns (total 8 columns):\n",
      " #   Column  Non-Null Count  Dtype  \n",
      "---  ------  --------------  -----  \n",
      " 0   date    2517 non-null   object \n",
      " 1   JNJ     2517 non-null   float64\n",
      " 2   HD      2517 non-null   float64\n",
      " 3   INTC    2517 non-null   float64\n",
      " 4   AMD     2517 non-null   float64\n",
      " 5   MU      2517 non-null   float64\n",
      " 6   NVDA    2517 non-null   float64\n",
      " 7   TSM     2517 non-null   float64\n",
      "dtypes: float64(7), object(1)\n",
      "memory usage: 157.4+ KB\n"
     ]
    }
   ],
   "source": [
    "# Read the CSV file into a `DataFrame` and set the date column as the index\n",
    "stocks_file = os.path.join('../','Resources', 'stocks.csv')\n",
    "\n",
    "# Read the files and insert them into DataFrames\n",
    "stocks_df = pd.read_csv(stocks_file)\n",
    "#stocks_df = stocks_df[\"date\"].astype(float)\n",
    "stocks_df.set_index('date')\n",
    "stocks_df.info()\n"
   ]
  },
  {
   "cell_type": "code",
   "execution_count": 75,
   "metadata": {},
   "outputs": [
    {
     "data": {
      "text/plain": [
       "JNJ     0.000865\n",
       "HD      0.000900\n",
       "INTC    0.000545\n",
       "AMD     0.001404\n",
       "MU      0.001307\n",
       "NVDA    0.001504\n",
       "TSM     0.000689\n",
       "dtype: float64"
      ]
     },
     "execution_count": 75,
     "metadata": {},
     "output_type": "execute_result"
    }
   ],
   "source": [
    "# Use the `pct_change` function in Pandas to calculate daily returns for each stock and drop N/A values\n",
    "stocks_df.sort_values(\"date\", axis = 0, ascending = True,inplace = True, na_position ='last')\n",
    "nd_stocks_df = stocks_df.loc[:,'JNJ':'TSM']\n",
    "pct_stocks_df = nd_stocks_df.pct_change(fill_method='ffill').dropna()\n",
    "pct_stocks_df.head(50)\n",
    "pct_stocks_df.mean()"
   ]
  },
  {
   "cell_type": "code",
   "execution_count": 62,
   "metadata": {},
   "outputs": [
    {
     "data": {
      "text/html": [
       "<div>\n",
       "<style scoped>\n",
       "    .dataframe tbody tr th:only-of-type {\n",
       "        vertical-align: middle;\n",
       "    }\n",
       "\n",
       "    .dataframe tbody tr th {\n",
       "        vertical-align: top;\n",
       "    }\n",
       "\n",
       "    .dataframe thead th {\n",
       "        text-align: right;\n",
       "    }\n",
       "</style>\n",
       "<table border=\"1\" class=\"dataframe\">\n",
       "  <thead>\n",
       "    <tr style=\"text-align: right;\">\n",
       "      <th></th>\n",
       "      <th>JNJ</th>\n",
       "      <th>HD</th>\n",
       "      <th>INTC</th>\n",
       "      <th>AMD</th>\n",
       "      <th>MU</th>\n",
       "      <th>NVDA</th>\n",
       "      <th>TSM</th>\n",
       "    </tr>\n",
       "  </thead>\n",
       "  <tbody>\n",
       "    <tr>\n",
       "      <th>JNJ</th>\n",
       "      <td>1.000000</td>\n",
       "      <td>0.746358</td>\n",
       "      <td>0.758800</td>\n",
       "      <td>0.457306</td>\n",
       "      <td>0.806984</td>\n",
       "      <td>0.626053</td>\n",
       "      <td>0.764274</td>\n",
       "    </tr>\n",
       "    <tr>\n",
       "      <th>HD</th>\n",
       "      <td>0.746358</td>\n",
       "      <td>1.000000</td>\n",
       "      <td>0.933007</td>\n",
       "      <td>0.587748</td>\n",
       "      <td>0.840312</td>\n",
       "      <td>0.849410</td>\n",
       "      <td>0.974018</td>\n",
       "    </tr>\n",
       "    <tr>\n",
       "      <th>INTC</th>\n",
       "      <td>0.758800</td>\n",
       "      <td>0.933007</td>\n",
       "      <td>1.000000</td>\n",
       "      <td>0.666676</td>\n",
       "      <td>0.893173</td>\n",
       "      <td>0.866886</td>\n",
       "      <td>0.935083</td>\n",
       "    </tr>\n",
       "    <tr>\n",
       "      <th>AMD</th>\n",
       "      <td>0.457306</td>\n",
       "      <td>0.587748</td>\n",
       "      <td>0.666676</td>\n",
       "      <td>1.000000</td>\n",
       "      <td>0.588189</td>\n",
       "      <td>0.791445</td>\n",
       "      <td>0.652670</td>\n",
       "    </tr>\n",
       "    <tr>\n",
       "      <th>MU</th>\n",
       "      <td>0.806984</td>\n",
       "      <td>0.840312</td>\n",
       "      <td>0.893173</td>\n",
       "      <td>0.588189</td>\n",
       "      <td>1.000000</td>\n",
       "      <td>0.843455</td>\n",
       "      <td>0.868179</td>\n",
       "    </tr>\n",
       "    <tr>\n",
       "      <th>NVDA</th>\n",
       "      <td>0.626053</td>\n",
       "      <td>0.849410</td>\n",
       "      <td>0.866886</td>\n",
       "      <td>0.791445</td>\n",
       "      <td>0.843455</td>\n",
       "      <td>1.000000</td>\n",
       "      <td>0.904970</td>\n",
       "    </tr>\n",
       "    <tr>\n",
       "      <th>TSM</th>\n",
       "      <td>0.764274</td>\n",
       "      <td>0.974018</td>\n",
       "      <td>0.935083</td>\n",
       "      <td>0.652670</td>\n",
       "      <td>0.868179</td>\n",
       "      <td>0.904970</td>\n",
       "      <td>1.000000</td>\n",
       "    </tr>\n",
       "  </tbody>\n",
       "</table>\n",
       "</div>"
      ],
      "text/plain": [
       "           JNJ        HD      INTC       AMD        MU      NVDA       TSM\n",
       "JNJ   1.000000  0.746358  0.758800  0.457306  0.806984  0.626053  0.764274\n",
       "HD    0.746358  1.000000  0.933007  0.587748  0.840312  0.849410  0.974018\n",
       "INTC  0.758800  0.933007  1.000000  0.666676  0.893173  0.866886  0.935083\n",
       "AMD   0.457306  0.587748  0.666676  1.000000  0.588189  0.791445  0.652670\n",
       "MU    0.806984  0.840312  0.893173  0.588189  1.000000  0.843455  0.868179\n",
       "NVDA  0.626053  0.849410  0.866886  0.791445  0.843455  1.000000  0.904970\n",
       "TSM   0.764274  0.974018  0.935083  0.652670  0.868179  0.904970  1.000000"
      ]
     },
     "execution_count": 62,
     "metadata": {},
     "output_type": "execute_result"
    }
   ],
   "source": [
    "# Use the `corr` function to calculate correlations of their daily returns for each stock pair\n",
    "corr_df = nd_stocks_df.corr()\n",
    "corr_df"
   ]
  },
  {
   "cell_type": "code",
   "execution_count": 70,
   "metadata": {},
   "outputs": [
    {
     "data": {
      "text/plain": [
       "<AxesSubplot:>"
      ]
     },
     "execution_count": 70,
     "metadata": {},
     "output_type": "execute_result"
    },
    {
     "data": {
      "image/png": "[encoded data removed]",
      "text/plain": [
       "<Figure size 432x288 with 2 Axes>"
      ]
     },
     "metadata": {
      "needs_background": "light"
     },
     "output_type": "display_data"
    }
   ],
   "source": [
    "# Create a heatmap from the correlation values\n",
    "sns.heatmap(corr_df, annot=True, linewidths=.75)"
   ]
  },
  {
   "cell_type": "markdown",
   "metadata": {},
   "source": [
    "### Which semiconductor stock would be the best candidate to add to the existing portfolio?"
   ]
  },
  {
   "cell_type": "markdown",
   "metadata": {},
   "source": [
    "# I would add NVDA, AMD or MU to my portfolio.  The mean daily percentage increase for NVDA 0.001504, AMD 0.001404 or MU 0.001307.  On the other hand, if I was day trading, and I owned NVDA, I might try my hand at INTC and HD, since there is a high correlation between the daily percentage move of these two stocks when compared to NVDA.  While there cummulative return is much lower, I might be able to trade in/out based on the move in NVDA."
   ]
  }
 ],
 "metadata": {
  "kernelspec": {
   "display_name": "Python 3",
   "language": "python",
   "name": "python3"
  },
  "language_info": {
   "codemirror_mode": {
    "name": "ipython",
    "version": 3
   },
   "file_extension": ".py",
   "mimetype": "text/x-python",
   "name": "python",
   "nbconvert_exporter": "python",
   "pygments_lexer": "ipython3",
   "version": "3.8.8"
  }
 },
 "nbformat": 4,
 "nbformat_minor": 4
}
