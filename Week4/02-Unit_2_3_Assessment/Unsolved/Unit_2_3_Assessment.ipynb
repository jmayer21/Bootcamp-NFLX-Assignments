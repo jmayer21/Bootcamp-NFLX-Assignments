{
 "cells": [
  {
   "cell_type": "markdown",
   "metadata": {},
   "source": [
    "# Instructions"
   ]
  },
  {
   "cell_type": "markdown",
   "metadata": {},
   "source": [
    "Read each question carefully and provide an appropriate answer in the following cells. Depending on the question, you may need to provide code or a text submission. **Be sure to label your answers with the question number for easy identification!**"
   ]
  },
  {
   "cell_type": "markdown",
   "metadata": {},
   "source": [
    "**Question 1: Which of the following statements is the correct way to import a csv into a Pandas DataFrame? (2 points)** \n",
    "\n",
    "A. \n",
    "\n",
    "```python\n",
    "import pandas as pd\n",
    "infile = pd.read_csv(file_name)\n",
    "```\n",
    "\n",
    "\n",
    "B. \n",
    "\n",
    "```python\n",
    "import pandas as pd\n",
    "infile = pd.readCSV(file_name)\n",
    "```\n",
    "\n",
    "\n",
    "C. \n",
    "\n",
    "```python\n",
    "import pandas as pd\n",
    "infile = read_file(file_name)\n",
    "```\n",
    "\n",
    "\n",
    "D. \n",
    "\n",
    "```python\n",
    "import pandas as pd\n",
    "df.read_file(file_name)\n",
    "```\n"
   ]
  },
  {
   "cell_type": "code",
   "execution_count": 1,
   "metadata": {},
   "outputs": [],
   "source": [
    "A"
   ]
  },
  {
   "cell_type": "markdown",
   "metadata": {},
   "source": [
    "**Question 2: Create a code block that first imports the `student.json` file into a Pandas dataframe named `grades`, then creates a new dataframe named `passing` that contains only the students whose `Pass/Fail` status equals `PASS`. (5 points)**"
   ]
  },
  {
   "cell_type": "code",
   "execution_count": 3,
   "metadata": {},
   "outputs": [
    {
     "name": "stdout",
     "output_type": "stream",
     "text": [
      "          Student Name  Midterm Exam  Midterm Paper  Final Exam  Final Paper  \\\n",
      "0   Jackqueline Durbin            85             84          90           56   \n",
      "1         Lina Petters            48             57          97           95   \n",
      "2      Hilaria Mcgehee            96            100          97           87   \n",
      "3          Leroy Dress            52             52          64           63   \n",
      "4        Raelene Bundy            89             57          90           85   \n",
      "5         Wayne Mellor            71             93          97           55   \n",
      "6        Sheena Bolten            97             90          70           83   \n",
      "7        Shyla Cupples            67             62          48           43   \n",
      "8          Ben Goforth           100             94          90           95   \n",
      "9         Alva Renshaw            88             61          45           47   \n",
      "10       Lucio Elswick            44             87          43           55   \n",
      "11     Mariana Hillwig            83             42          67           46   \n",
      "12          Elna Doane            59             43          43           52   \n",
      "13     Sang Pascarelli            54             47          92           57   \n",
      "14       Arianna Wagar            73             98          59           73   \n",
      "15        Antonio Kaur            75             72          87           53   \n",
      "16      Alethea Wyllie            90             97         100           97   \n",
      "17      Concetta Lucht            95             80          88           89   \n",
      "18      Jude Capetillo            66            100          93           82   \n",
      "19         Gladis Rank            46             74          92           87   \n",
      "20      Luciano Cuffie            94             92          86          100   \n",
      "21        Oren Okelley            55             52          76           48   \n",
      "22            Ha Ruano            41             44          95           55   \n",
      "23          Damon Sohn            53             97          74           53   \n",
      "\n",
      "    Final Grade Pass/Fail Letter Grade  \n",
      "0            79      PASS            C  \n",
      "1            74      PASS            C  \n",
      "2            95      PASS            A  \n",
      "3            58      FAIL            F  \n",
      "4            80      PASS            B  \n",
      "5            79      PASS            C  \n",
      "6            85      PASS            B  \n",
      "7            55      FAIL            F  \n",
      "8            95      PASS            A  \n",
      "9            60      PASS            D  \n",
      "10           57      FAIL            F  \n",
      "11           60      PASS            D  \n",
      "12           49      FAIL            F  \n",
      "13           63      PASS            D  \n",
      "14           76      PASS            C  \n",
      "15           72      PASS            C  \n",
      "16           96      PASS            A  \n",
      "17           88      PASS            B  \n",
      "18           85      PASS            B  \n",
      "19           75      PASS            C  \n",
      "20           93      PASS            A  \n",
      "21           58      FAIL            F  \n",
      "22           59      FAIL            F  \n",
      "23           69      PASS            D  \n",
      "          Student Name  Midterm Exam  Midterm Paper  Final Exam  Final Paper  \\\n",
      "0   Jackqueline Durbin            85             84          90           56   \n",
      "1         Lina Petters            48             57          97           95   \n",
      "2      Hilaria Mcgehee            96            100          97           87   \n",
      "4        Raelene Bundy            89             57          90           85   \n",
      "5         Wayne Mellor            71             93          97           55   \n",
      "6        Sheena Bolten            97             90          70           83   \n",
      "8          Ben Goforth           100             94          90           95   \n",
      "9         Alva Renshaw            88             61          45           47   \n",
      "11     Mariana Hillwig            83             42          67           46   \n",
      "13     Sang Pascarelli            54             47          92           57   \n",
      "14       Arianna Wagar            73             98          59           73   \n",
      "15        Antonio Kaur            75             72          87           53   \n",
      "16      Alethea Wyllie            90             97         100           97   \n",
      "17      Concetta Lucht            95             80          88           89   \n",
      "18      Jude Capetillo            66            100          93           82   \n",
      "19         Gladis Rank            46             74          92           87   \n",
      "20      Luciano Cuffie            94             92          86          100   \n",
      "23          Damon Sohn            53             97          74           53   \n",
      "\n",
      "    Final Grade Pass/Fail Letter Grade  \n",
      "0            79      PASS            C  \n",
      "1            74      PASS            C  \n",
      "2            95      PASS            A  \n",
      "4            80      PASS            B  \n",
      "5            79      PASS            C  \n",
      "6            85      PASS            B  \n",
      "8            95      PASS            A  \n",
      "9            60      PASS            D  \n",
      "11           60      PASS            D  \n",
      "13           63      PASS            D  \n",
      "14           76      PASS            C  \n",
      "15           72      PASS            C  \n",
      "16           96      PASS            A  \n",
      "17           88      PASS            B  \n",
      "18           85      PASS            B  \n",
      "19           75      PASS            C  \n",
      "20           93      PASS            A  \n",
      "23           69      PASS            D  \n"
     ]
    }
   ],
   "source": [
    "import pandas as pd\n",
    "df = pd.read_json (r'.\\student.json')\n",
    "print (df)\n",
    "\n",
    "passing_df = df.loc[(df['Pass/Fail'] == \"PASS\"),:]\n",
    "print(passing_df)\n"
   ]
  },
  {
   "cell_type": "markdown",
   "metadata": {},
   "source": [
    "**Question 3: Create a code block that creates a Pandas dataframe with the following columns and values: (5 points)**\n",
    "\n",
    "* `Stock_Symbol`: AAPL, GOOG, TSLA, KO, MSFT\n",
    "* `Company_Name`: Apple, Google, Tesla, Coca-Cola, Microsoft\n",
    "* `52_Week_High`: 145.09, 1934.86, 900.40, 60.13, 242.64"
   ]
  },
  {
   "cell_type": "code",
   "execution_count": 9,
   "metadata": {},
   "outputs": [
    {
     "name": "stdout",
     "output_type": "stream",
     "text": [
      "  Stock_Symbol Company_Name  52_Week_High\n",
      "0         AAPL        Apple        145.09\n",
      "1         GOOG       Google       1934.86\n",
      "2         TSLA        Tesla        900.40\n",
      "3           KO    Coca-Cola         60.13\n",
      "4         MSFT    Microsoft        242.64\n"
     ]
    }
   ],
   "source": [
    "import pandas as pd\n",
    "\n",
    "symbol = pd.Series([\"AAPL\", \"GOOG\", \"TSLA\", \"KO\", \"MSFT\"])\n",
    "name = pd.Series([\"Apple\", \"Google\", \"Tesla\", \"Coca-Cola\", \"Microsoft\"])\n",
    "price = pd.Series([145.09, 1934.86, 900.40, 60.13, 242.64])\n",
    "\n",
    "stock_df = pd.DataFrame({\"Stock_Symbol\":symbol, \"Company_Name\":name, \"52_Week_High\":price})\n",
    "print(stock_df)"
   ]
  },
  {
   "cell_type": "markdown",
   "metadata": {},
   "source": [
    "**Question 4: Which of the following `git` commands creates a new branch in your local repository? (2 points):**\n",
    "\n",
    "A. `git clone`\n",
    "\n",
    "B. `git pull <branch name>` \n",
    "\n",
    "C. `git checkout -b <branch name>`\n",
    "\n",
    "D. `git push -b <branch name>`"
   ]
  },
  {
   "cell_type": "code",
   "execution_count": 4,
   "metadata": {},
   "outputs": [],
   "source": [
    "D"
   ]
  },
  {
   "cell_type": "markdown",
   "metadata": {},
   "source": [
    "**Question 5: Create a code block that performs the following operations: (10 points)**\n",
    "\n",
    "   1. Import the `bitcoin_cash_price.csv` file into a Pandas dataframe called `bitcoin`.\n",
    "   \n",
    "   2. Import the `dash_price.csv` file into a Pandas dataframe called `dash`.\n",
    "   \n",
    "   3. Merge the `bitcoin` and `dash` dataframes using the `Date` column as the identifier column. Name this new merged dataframe `crypto`. \n",
    "   \n",
    "   4. Create a new `Delta_Volume` column in the `crypto` dataframe that calculates the largest **absolute** difference between the bitcoin `Volume` versus dash `Volume`.\n",
    "   \n",
    "     * **Hint:** Use `abs()` to calculate absolute value.\n",
    "   \n",
    "   \n",
    "   5. Find the row in the `crypto` dataframe that contains the maximum `Delta_Volume` value. Print the row out. "
   ]
  },
  {
   "cell_type": "code",
   "execution_count": 13,
   "metadata": {},
   "outputs": [
    {
     "name": "stdout",
     "output_type": "stream",
     "text": [
      "         Date    Open     High     Low   Close        Volume      Market Cap\n",
      "0   17-Sep-17  438.90   438.90  384.06  419.86  2.218280e+08   7,279,520,000\n",
      "1   16-Sep-17  424.49   450.98  388.20  440.22  3.135830e+08   7,039,590,000\n",
      "2   15-Sep-17  369.49   448.39  301.69  424.02  7.072310e+08   6,126,800,000\n",
      "3   14-Sep-17  504.22   510.47  367.04  367.04  2.574310e+08   8,359,650,000\n",
      "4   13-Sep-17  509.47   519.20  471.22  503.61  3.403440e+08   8,445,540,000\n",
      "5   12-Sep-17  539.03   559.22  505.01  510.41  2.738250e+08   8,934,220,000\n",
      "6   11-Sep-17  537.19   556.25  515.67  537.81  2.747120e+08   8,902,570,000\n",
      "7   10-Sep-17  546.48   546.75  484.09  537.07  2.895080e+08   9,055,430,000\n",
      "8    9-Sep-17  584.73   586.18  539.15  547.47  2.345780e+08   9,688,150,000\n",
      "9    8-Sep-17  654.37   687.30  557.50  583.10  8.097630e+08  10,840,500,000\n",
      "10   7-Sep-17  636.85   707.98  603.50  652.86  1.082380e+09  10,548,500,000\n",
      "11   6-Sep-17  541.28   642.69  539.96  638.18  6.932400e+08   8,964,700,000\n",
      "12   5-Sep-17  514.90   550.95  458.78  541.71  3.389780e+08   8,527,100,000\n",
      "13   4-Sep-17  608.26   608.26  500.75  517.24  3.289570e+08  10,072,200,000\n",
      "14   3-Sep-17  578.27   617.41  563.59  607.43  3.448620e+08   9,574,520,000\n",
      "15   2-Sep-17  621.96   642.05  560.58  575.90  3.504780e+08  10,297,000,000\n",
      "16   1-Sep-17  588.40   645.52  586.73  622.17  3.938390e+08   9,740,460,000\n",
      "17  31-Aug-17  576.25   603.69  572.14  588.17  2.981440e+08   9,538,750,000\n",
      "18  30-Aug-17  549.32   604.69  535.92  575.21  4.438560e+08   9,092,300,000\n",
      "19  29-Aug-17  596.13   599.30  528.32  552.93  3.700170e+08   9,866,110,000\n",
      "20  28-Aug-17  619.70   626.88  595.52  596.18  2.162730e+08  10,254,800,000\n",
      "21  27-Aug-17  625.89   654.87  589.63  620.90  4.027180e+08  10,357,000,000\n",
      "22  26-Aug-17  641.88   646.93  622.36  625.32  1.934140e+08  10,616,100,000\n",
      "23  25-Aug-17  627.06   665.41  624.30  641.05  3.486320e+08  10,365,600,000\n",
      "24  24-Aug-17  670.03   697.32  617.31  628.11  4.071770e+08  11,071,100,000\n",
      "25  23-Aug-17  690.96   715.67  651.32  669.40  5.019830e+08  11,416,800,000\n",
      "26  22-Aug-17  596.19   734.88  570.27  690.88  1.393260e+09   9,844,620,000\n",
      "27  21-Aug-17  723.70   756.59  573.47  599.63  1.123400e+09  11,943,100,000\n",
      "28  20-Aug-17  772.42   858.96  683.94  712.87  1.494020e+09  12,742,600,000\n",
      "29  19-Aug-17  697.04  1091.97  625.16  754.56  3.196230e+09  11,498,100,000\n",
      "30  18-Aug-17  458.67   764.07  458.67  690.24  3.087490e+09   7,565,590,000\n",
      "31  17-Aug-17  301.02   460.53  293.10  460.53  7.446050e+08   4,964,980,000\n",
      "32  16-Aug-17  297.97   307.62  290.21  300.21  1.064360e+08   4,914,350,000\n",
      "33  15-Aug-17  298.19   306.52  292.88  297.86  1.339240e+08   4,917,480,000\n",
      "34  14-Aug-17  296.10   327.39  293.50  297.68  1.749680e+08   4,882,720,000\n",
      "35  13-Aug-17  316.29   317.47  298.05  298.05  1.207220e+08   5,215,330,000\n",
      "36  12-Aug-17  327.82   341.85  313.70  317.09  1.260070e+08   5,405,200,000\n",
      "37  11-Aug-17  275.88   351.16  275.02  328.24  2.339710e+08   4,548,600,000\n",
      "38  10-Aug-17  305.21   311.68  274.68  275.95  1.366370e+08   5,031,790,000\n",
      "39   9-Aug-17  345.28   349.32  298.61  303.89  1.650320e+08   5,691,960,000\n",
      "40   8-Aug-17  321.35   386.29  309.61  345.49  2.748800e+08   5,297,390,000\n",
      "41   7-Aug-17  223.76   373.87  223.76  319.69  3.465460e+08   3,688,360,000\n",
      "42   6-Aug-17  212.18   223.70  203.44  220.66  1.076060e+08   3,497,290,000\n",
      "43   5-Aug-17  231.11   273.04  200.98  213.15  1.440430e+08   3,809,330,000\n",
      "44   4-Aug-17  362.18   386.93  233.05  233.05  1.850380e+08   5,969,720,000\n",
      "45   3-Aug-17  448.49   519.28  364.05  364.05  1.615180e+08   7,392,030,000\n",
      "46   2-Aug-17  382.38   756.93  309.33  452.66  4.162070e+08   6,302,360,000\n",
      "47   1-Aug-17  294.60   426.11  210.38  380.01  6.598880e+07               -\n",
      "48  31-Jul-17  346.36   347.82  266.19  294.46  1.075960e+06               -\n",
      "49  30-Jul-17  385.14   385.14  316.25  345.66  6.066950e+05               -\n",
      "50  29-Jul-17  410.56   423.73  323.73  384.77  7.378150e+05               -\n",
      "51  28-Jul-17  386.65   465.18  217.06  406.05  1.230160e+06               -\n",
      "52  27-Jul-17  417.10   460.97  367.78  385.48  5.332070e+05               -\n",
      "53  26-Jul-17  407.08   486.16  321.79  365.82  1.784640e+06               -\n",
      "54  25-Jul-17  441.35   541.66  338.09  406.90  5.249080e+05               -\n",
      "55  24-Jul-17  412.58   578.89  409.21  440.70  1.909520e+05               -\n",
      "56  23-Jul-17  555.89   578.97  411.78  413.06  8.501300e+04               -\n",
      "           Date        Open        High         Low       Close      Volume  \\\n",
      "0     17-Sep-17  298.590000  315.580000  278.170000  313.840000  38081600.0   \n",
      "1     16-Sep-17  284.500000  301.230000  276.570000  298.860000  43702600.0   \n",
      "2     15-Sep-17  236.050000  300.110000  220.510000  284.360000  72695500.0   \n",
      "3     14-Sep-17  301.110000  303.740000  236.240000  236.240000  35013800.0   \n",
      "4     13-Sep-17  324.720000  325.160000  287.250000  301.290000  28322500.0   \n",
      "...         ...         ...         ...         ...         ...         ...   \n",
      "1307  18-Feb-14    1.180000    1.500000    0.841751    1.040000    160779.0   \n",
      "1308  17-Feb-14    0.406039    1.500000    0.402588    1.450000    178618.0   \n",
      "1309  16-Feb-14    0.325840    0.459833    0.310345    0.406976     28017.0   \n",
      "1310  15-Feb-14    0.331111    0.354461    0.219434    0.314865     21119.0   \n",
      "1311  14-Feb-14    0.213899    0.378883    0.213899    0.374024     15422.0   \n",
      "\n",
      "         Market Cap  \n",
      "0     2,257,850,000  \n",
      "1     2,150,800,000  \n",
      "2     1,784,040,000  \n",
      "3     2,275,100,000  \n",
      "4     2,452,930,000  \n",
      "...             ...  \n",
      "1307      3,960,320  \n",
      "1308      1,360,260  \n",
      "1309      1,085,280  \n",
      "1310      1,092,120  \n",
      "1311        702,537  \n",
      "\n",
      "[1312 rows x 7 columns]\n"
     ]
    },
    {
     "ename": "TypeError",
     "evalue": "'Series' objects are mutable, thus they cannot be hashed",
     "output_type": "error",
     "traceback": [
      "\u001b[1;31m---------------------------------------------------------------------------\u001b[0m",
      "\u001b[1;31mTypeError\u001b[0m                                 Traceback (most recent call last)",
      "\u001b[1;32m<ipython-input-13-c1c06dd426a9>\u001b[0m in \u001b[0;36m<module>\u001b[1;34m\u001b[0m\n\u001b[0;32m      6\u001b[0m \u001b[0mprint\u001b[0m \u001b[1;33m(\u001b[0m\u001b[0mdash_df\u001b[0m\u001b[1;33m)\u001b[0m\u001b[1;33m\u001b[0m\u001b[1;33m\u001b[0m\u001b[0m\n\u001b[0;32m      7\u001b[0m \u001b[1;33m\u001b[0m\u001b[0m\n\u001b[1;32m----> 8\u001b[1;33m \u001b[0mcrypto_df\u001b[0m \u001b[1;33m=\u001b[0m \u001b[0mpd\u001b[0m\u001b[1;33m.\u001b[0m\u001b[0mmerge\u001b[0m\u001b[1;33m(\u001b[0m\u001b[0mbitcoin_df\u001b[0m\u001b[1;33m,\u001b[0m \u001b[0mdash_df\u001b[0m\u001b[1;33m,\u001b[0m \u001b[0mon\u001b[0m\u001b[1;33m=\u001b[0m\u001b[1;34m'Date'\u001b[0m\u001b[1;33m)\u001b[0m\u001b[1;33m.\u001b[0m\u001b[0mmax\u001b[0m\u001b[1;33m(\u001b[0m\u001b[0mabs\u001b[0m\u001b[1;33m(\u001b[0m\u001b[0mbitcoin_df\u001b[0m\u001b[1;33m[\u001b[0m\u001b[1;34m'Volume'\u001b[0m\u001b[1;33m]\u001b[0m\u001b[1;33m)\u001b[0m\u001b[1;33m,\u001b[0m\u001b[0mabs\u001b[0m\u001b[1;33m(\u001b[0m\u001b[0mdash_df\u001b[0m\u001b[1;33m[\u001b[0m\u001b[1;34m'Volume'\u001b[0m\u001b[1;33m]\u001b[0m\u001b[1;33m)\u001b[0m\u001b[1;33m)\u001b[0m\u001b[1;33m\u001b[0m\u001b[1;33m\u001b[0m\u001b[0m\n\u001b[0m\u001b[0;32m      9\u001b[0m \u001b[0mprint\u001b[0m \u001b[1;33m(\u001b[0m\u001b[0mcrypto_df\u001b[0m\u001b[1;33m)\u001b[0m\u001b[1;33m\u001b[0m\u001b[1;33m\u001b[0m\u001b[0m\n\u001b[0;32m     10\u001b[0m \u001b[1;33m\u001b[0m\u001b[0m\n",
      "\u001b[1;32mC:\\ProgramData\\Anaconda3\\lib\\site-packages\\pandas\\core\\generic.py\u001b[0m in \u001b[0;36mmax\u001b[1;34m(self, axis, skipna, level, numeric_only, **kwargs)\u001b[0m\n\u001b[0;32m  11192\u001b[0m         )\n\u001b[0;32m  11193\u001b[0m         \u001b[1;32mdef\u001b[0m \u001b[0mmax\u001b[0m\u001b[1;33m(\u001b[0m\u001b[0mself\u001b[0m\u001b[1;33m,\u001b[0m \u001b[0maxis\u001b[0m\u001b[1;33m=\u001b[0m\u001b[1;32mNone\u001b[0m\u001b[1;33m,\u001b[0m \u001b[0mskipna\u001b[0m\u001b[1;33m=\u001b[0m\u001b[1;32mNone\u001b[0m\u001b[1;33m,\u001b[0m \u001b[0mlevel\u001b[0m\u001b[1;33m=\u001b[0m\u001b[1;32mNone\u001b[0m\u001b[1;33m,\u001b[0m \u001b[0mnumeric_only\u001b[0m\u001b[1;33m=\u001b[0m\u001b[1;32mNone\u001b[0m\u001b[1;33m,\u001b[0m \u001b[1;33m**\u001b[0m\u001b[0mkwargs\u001b[0m\u001b[1;33m)\u001b[0m\u001b[1;33m:\u001b[0m\u001b[1;33m\u001b[0m\u001b[1;33m\u001b[0m\u001b[0m\n\u001b[1;32m> 11194\u001b[1;33m             \u001b[1;32mreturn\u001b[0m \u001b[0mNDFrame\u001b[0m\u001b[1;33m.\u001b[0m\u001b[0mmax\u001b[0m\u001b[1;33m(\u001b[0m\u001b[0mself\u001b[0m\u001b[1;33m,\u001b[0m \u001b[0maxis\u001b[0m\u001b[1;33m,\u001b[0m \u001b[0mskipna\u001b[0m\u001b[1;33m,\u001b[0m \u001b[0mlevel\u001b[0m\u001b[1;33m,\u001b[0m \u001b[0mnumeric_only\u001b[0m\u001b[1;33m,\u001b[0m \u001b[1;33m**\u001b[0m\u001b[0mkwargs\u001b[0m\u001b[1;33m)\u001b[0m\u001b[1;33m\u001b[0m\u001b[1;33m\u001b[0m\u001b[0m\n\u001b[0m\u001b[0;32m  11195\u001b[0m \u001b[1;33m\u001b[0m\u001b[0m\n\u001b[0;32m  11196\u001b[0m         \u001b[1;31m# pandas\\core\\generic.py:10992: error: Cannot assign to a method\u001b[0m\u001b[1;33m\u001b[0m\u001b[1;33m\u001b[0m\u001b[1;33m\u001b[0m\u001b[0m\n",
      "\u001b[1;32mC:\\ProgramData\\Anaconda3\\lib\\site-packages\\pandas\\core\\generic.py\u001b[0m in \u001b[0;36mmax\u001b[1;34m(self, axis, skipna, level, numeric_only, **kwargs)\u001b[0m\n\u001b[0;32m  10719\u001b[0m \u001b[1;33m\u001b[0m\u001b[0m\n\u001b[0;32m  10720\u001b[0m     \u001b[1;32mdef\u001b[0m \u001b[0mmax\u001b[0m\u001b[1;33m(\u001b[0m\u001b[0mself\u001b[0m\u001b[1;33m,\u001b[0m \u001b[0maxis\u001b[0m\u001b[1;33m=\u001b[0m\u001b[1;32mNone\u001b[0m\u001b[1;33m,\u001b[0m \u001b[0mskipna\u001b[0m\u001b[1;33m=\u001b[0m\u001b[1;32mNone\u001b[0m\u001b[1;33m,\u001b[0m \u001b[0mlevel\u001b[0m\u001b[1;33m=\u001b[0m\u001b[1;32mNone\u001b[0m\u001b[1;33m,\u001b[0m \u001b[0mnumeric_only\u001b[0m\u001b[1;33m=\u001b[0m\u001b[1;32mNone\u001b[0m\u001b[1;33m,\u001b[0m \u001b[1;33m**\u001b[0m\u001b[0mkwargs\u001b[0m\u001b[1;33m)\u001b[0m\u001b[1;33m:\u001b[0m\u001b[1;33m\u001b[0m\u001b[1;33m\u001b[0m\u001b[0m\n\u001b[1;32m> 10721\u001b[1;33m         return self._stat_function(\n\u001b[0m\u001b[0;32m  10722\u001b[0m             \u001b[1;34m\"max\"\u001b[0m\u001b[1;33m,\u001b[0m \u001b[0mnanops\u001b[0m\u001b[1;33m.\u001b[0m\u001b[0mnanmax\u001b[0m\u001b[1;33m,\u001b[0m \u001b[0maxis\u001b[0m\u001b[1;33m,\u001b[0m \u001b[0mskipna\u001b[0m\u001b[1;33m,\u001b[0m \u001b[0mlevel\u001b[0m\u001b[1;33m,\u001b[0m \u001b[0mnumeric_only\u001b[0m\u001b[1;33m,\u001b[0m \u001b[1;33m**\u001b[0m\u001b[0mkwargs\u001b[0m\u001b[1;33m\u001b[0m\u001b[1;33m\u001b[0m\u001b[0m\n\u001b[0;32m  10723\u001b[0m         )\n",
      "\u001b[1;32mC:\\ProgramData\\Anaconda3\\lib\\site-packages\\pandas\\core\\generic.py\u001b[0m in \u001b[0;36m_stat_function\u001b[1;34m(self, name, func, axis, skipna, level, numeric_only, **kwargs)\u001b[0m\n\u001b[0;32m  10709\u001b[0m         \u001b[1;32mif\u001b[0m \u001b[0mlevel\u001b[0m \u001b[1;32mis\u001b[0m \u001b[1;32mnot\u001b[0m \u001b[1;32mNone\u001b[0m\u001b[1;33m:\u001b[0m\u001b[1;33m\u001b[0m\u001b[1;33m\u001b[0m\u001b[0m\n\u001b[0;32m  10710\u001b[0m             \u001b[1;32mreturn\u001b[0m \u001b[0mself\u001b[0m\u001b[1;33m.\u001b[0m\u001b[0m_agg_by_level\u001b[0m\u001b[1;33m(\u001b[0m\u001b[0mname\u001b[0m\u001b[1;33m,\u001b[0m \u001b[0maxis\u001b[0m\u001b[1;33m=\u001b[0m\u001b[0maxis\u001b[0m\u001b[1;33m,\u001b[0m \u001b[0mlevel\u001b[0m\u001b[1;33m=\u001b[0m\u001b[0mlevel\u001b[0m\u001b[1;33m,\u001b[0m \u001b[0mskipna\u001b[0m\u001b[1;33m=\u001b[0m\u001b[0mskipna\u001b[0m\u001b[1;33m)\u001b[0m\u001b[1;33m\u001b[0m\u001b[1;33m\u001b[0m\u001b[0m\n\u001b[1;32m> 10711\u001b[1;33m         return self._reduce(\n\u001b[0m\u001b[0;32m  10712\u001b[0m             \u001b[0mfunc\u001b[0m\u001b[1;33m,\u001b[0m \u001b[0mname\u001b[0m\u001b[1;33m=\u001b[0m\u001b[0mname\u001b[0m\u001b[1;33m,\u001b[0m \u001b[0maxis\u001b[0m\u001b[1;33m=\u001b[0m\u001b[0maxis\u001b[0m\u001b[1;33m,\u001b[0m \u001b[0mskipna\u001b[0m\u001b[1;33m=\u001b[0m\u001b[0mskipna\u001b[0m\u001b[1;33m,\u001b[0m \u001b[0mnumeric_only\u001b[0m\u001b[1;33m=\u001b[0m\u001b[0mnumeric_only\u001b[0m\u001b[1;33m\u001b[0m\u001b[1;33m\u001b[0m\u001b[0m\n\u001b[0;32m  10713\u001b[0m         )\n",
      "\u001b[1;32mC:\\ProgramData\\Anaconda3\\lib\\site-packages\\pandas\\core\\frame.py\u001b[0m in \u001b[0;36m_reduce\u001b[1;34m(self, op, name, axis, skipna, numeric_only, filter_type, **kwds)\u001b[0m\n\u001b[0;32m   8809\u001b[0m \u001b[1;33m\u001b[0m\u001b[0m\n\u001b[0;32m   8810\u001b[0m         \u001b[1;31m# TODO: Make other agg func handle axis=None properly GH#21597\u001b[0m\u001b[1;33m\u001b[0m\u001b[1;33m\u001b[0m\u001b[1;33m\u001b[0m\u001b[0m\n\u001b[1;32m-> 8811\u001b[1;33m         \u001b[0maxis\u001b[0m \u001b[1;33m=\u001b[0m \u001b[0mself\u001b[0m\u001b[1;33m.\u001b[0m\u001b[0m_get_axis_number\u001b[0m\u001b[1;33m(\u001b[0m\u001b[0maxis\u001b[0m\u001b[1;33m)\u001b[0m\u001b[1;33m\u001b[0m\u001b[1;33m\u001b[0m\u001b[0m\n\u001b[0m\u001b[0;32m   8812\u001b[0m         \u001b[0mlabels\u001b[0m \u001b[1;33m=\u001b[0m \u001b[0mself\u001b[0m\u001b[1;33m.\u001b[0m\u001b[0m_get_agg_axis\u001b[0m\u001b[1;33m(\u001b[0m\u001b[0maxis\u001b[0m\u001b[1;33m)\u001b[0m\u001b[1;33m\u001b[0m\u001b[1;33m\u001b[0m\u001b[0m\n\u001b[0;32m   8813\u001b[0m         \u001b[1;32massert\u001b[0m \u001b[0maxis\u001b[0m \u001b[1;32min\u001b[0m \u001b[1;33m[\u001b[0m\u001b[1;36m0\u001b[0m\u001b[1;33m,\u001b[0m \u001b[1;36m1\u001b[0m\u001b[1;33m]\u001b[0m\u001b[1;33m\u001b[0m\u001b[1;33m\u001b[0m\u001b[0m\n",
      "\u001b[1;32mC:\\ProgramData\\Anaconda3\\lib\\site-packages\\pandas\\core\\generic.py\u001b[0m in \u001b[0;36m_get_axis_number\u001b[1;34m(cls, axis)\u001b[0m\n\u001b[0;32m    458\u001b[0m     \u001b[1;32mdef\u001b[0m \u001b[0m_get_axis_number\u001b[0m\u001b[1;33m(\u001b[0m\u001b[0mcls\u001b[0m\u001b[1;33m,\u001b[0m \u001b[0maxis\u001b[0m\u001b[1;33m:\u001b[0m \u001b[0mAxis\u001b[0m\u001b[1;33m)\u001b[0m \u001b[1;33m->\u001b[0m \u001b[0mint\u001b[0m\u001b[1;33m:\u001b[0m\u001b[1;33m\u001b[0m\u001b[1;33m\u001b[0m\u001b[0m\n\u001b[0;32m    459\u001b[0m         \u001b[1;32mtry\u001b[0m\u001b[1;33m:\u001b[0m\u001b[1;33m\u001b[0m\u001b[1;33m\u001b[0m\u001b[0m\n\u001b[1;32m--> 460\u001b[1;33m             \u001b[1;32mreturn\u001b[0m \u001b[0mcls\u001b[0m\u001b[1;33m.\u001b[0m\u001b[0m_AXIS_TO_AXIS_NUMBER\u001b[0m\u001b[1;33m[\u001b[0m\u001b[0maxis\u001b[0m\u001b[1;33m]\u001b[0m\u001b[1;33m\u001b[0m\u001b[1;33m\u001b[0m\u001b[0m\n\u001b[0m\u001b[0;32m    461\u001b[0m         \u001b[1;32mexcept\u001b[0m \u001b[0mKeyError\u001b[0m\u001b[1;33m:\u001b[0m\u001b[1;33m\u001b[0m\u001b[1;33m\u001b[0m\u001b[0m\n\u001b[0;32m    462\u001b[0m             \u001b[1;32mraise\u001b[0m \u001b[0mValueError\u001b[0m\u001b[1;33m(\u001b[0m\u001b[1;34mf\"No axis named {axis} for object type {cls.__name__}\"\u001b[0m\u001b[1;33m)\u001b[0m\u001b[1;33m\u001b[0m\u001b[1;33m\u001b[0m\u001b[0m\n",
      "\u001b[1;32mC:\\ProgramData\\Anaconda3\\lib\\site-packages\\pandas\\core\\generic.py\u001b[0m in \u001b[0;36m__hash__\u001b[1;34m(self)\u001b[0m\n\u001b[0;32m   1783\u001b[0m \u001b[1;33m\u001b[0m\u001b[0m\n\u001b[0;32m   1784\u001b[0m     \u001b[1;32mdef\u001b[0m \u001b[0m__hash__\u001b[0m\u001b[1;33m(\u001b[0m\u001b[0mself\u001b[0m\u001b[1;33m)\u001b[0m \u001b[1;33m->\u001b[0m \u001b[0mint\u001b[0m\u001b[1;33m:\u001b[0m\u001b[1;33m\u001b[0m\u001b[1;33m\u001b[0m\u001b[0m\n\u001b[1;32m-> 1785\u001b[1;33m         raise TypeError(\n\u001b[0m\u001b[0;32m   1786\u001b[0m             \u001b[1;34mf\"{repr(type(self).__name__)} objects are mutable, \"\u001b[0m\u001b[1;33m\u001b[0m\u001b[1;33m\u001b[0m\u001b[0m\n\u001b[0;32m   1787\u001b[0m             \u001b[1;34mf\"thus they cannot be hashed\"\u001b[0m\u001b[1;33m\u001b[0m\u001b[1;33m\u001b[0m\u001b[0m\n",
      "\u001b[1;31mTypeError\u001b[0m: 'Series' objects are mutable, thus they cannot be hashed"
     ]
    }
   ],
   "source": [
    "import pandas as pd\n",
    "bitcoin_df = pd.read_csv (r'.\\bitcoin_cash_price.csv')\n",
    "print (bitcoin_df)\n",
    "\n",
    "dash_df = pd.read_csv (r'.\\dash_price.csv')\n",
    "print (dash_df)\n",
    "\n",
    "crypto_df = pd.merge(bitcoin_df, dash_df, on='Date').max(abs(bitcoin_df['Volume']),abs(dash_df['Volume']))\n",
    "print (crypto_df)\n",
    "\n",
    "#crypto_df['Delta_Volume'] = crypto_df.abs('')\n"
   ]
  },
  {
   "cell_type": "markdown",
   "metadata": {},
   "source": [
    "**Question 6: Which of the following statements adjusts the upper and lower limits on a Matplotlib visualization? (2 points)**\n",
    "\n",
    "A. \n",
    "\n",
    "```python\n",
    "import matplotlib.pyplot as plt\n",
    "plt.hlines(0,25,0, alpha=0.25)\n",
    "```\n",
    "\n",
    "B.\n",
    "\n",
    "```python\n",
    "import matplotlib.pyplot as plt\n",
    "plt.xlim(0,25)\n",
    "plt.ylim(0,25)\n",
    "```\n",
    "\n",
    "C.\n",
    "```python\n",
    "import matplotlib.pyplot as plt\n",
    "plt.grid(0,25,0,25)\n",
    "```\n",
    "\n",
    "D.\n",
    "```python\n",
    "import matplotlib.pyplot as plt\n",
    "plt.upper(0,25)\n",
    "plt.lower(0,25)\n",
    "```"
   ]
  },
  {
   "cell_type": "code",
   "execution_count": 6,
   "metadata": {},
   "outputs": [],
   "source": [
    "B"
   ]
  },
  {
   "cell_type": "markdown",
   "metadata": {},
   "source": [
    "**Question 7: Generate a bar plot that visualizes the following Netflix show IMDB ratings: (5 points)**\n",
    "\n",
    "`{\"Series\":[\"The Witcher\",\"Disenchantment\",\"Tiger King\",\"Ozark\",\"Stranger Things\"],\"User Ratings\":[8.2,7.2,7.6,8.4,8.7]}`"
   ]
  },
  {
   "cell_type": "code",
   "execution_count": 24,
   "metadata": {},
   "outputs": [
    {
     "name": "stdout",
     "output_type": "stream",
     "text": [
      "             Shows  Ratings\n",
      "0      The Witcher      8.2\n",
      "1   Disenchantment      7.2\n",
      "2       Tiger King      7.6\n",
      "3            Ozark      8.4\n",
      "4  Stranger Things      8.7\n"
     ]
    },
    {
     "ename": "AttributeError",
     "evalue": "'tuple' object has no attribute 'set_title'",
     "output_type": "error",
     "traceback": [
      "\u001b[1;31m---------------------------------------------------------------------------\u001b[0m",
      "\u001b[1;31mAttributeError\u001b[0m                            Traceback (most recent call last)",
      "\u001b[1;32m<ipython-input-24-b639fe0aa0cf>\u001b[0m in \u001b[0;36m<module>\u001b[1;34m\u001b[0m\n\u001b[0;32m     21\u001b[0m \u001b[1;33m\u001b[0m\u001b[0m\n\u001b[0;32m     22\u001b[0m \u001b[1;31m# Setting the chart's title\u001b[0m\u001b[1;33m\u001b[0m\u001b[1;33m\u001b[0m\u001b[1;33m\u001b[0m\u001b[0m\n\u001b[1;32m---> 23\u001b[1;33m \u001b[0max\u001b[0m\u001b[1;33m.\u001b[0m\u001b[0mset_title\u001b[0m\u001b[1;33m(\u001b[0m\u001b[1;34m'Shows'\u001b[0m\u001b[1;33m)\u001b[0m\u001b[1;33m\u001b[0m\u001b[1;33m\u001b[0m\u001b[0m\n\u001b[0m\u001b[0;32m     24\u001b[0m \u001b[1;33m\u001b[0m\u001b[0m\n\u001b[0;32m     25\u001b[0m \u001b[1;31m# Setting the position of the x ticks\u001b[0m\u001b[1;33m\u001b[0m\u001b[1;33m\u001b[0m\u001b[1;33m\u001b[0m\u001b[0m\n",
      "\u001b[1;31mAttributeError\u001b[0m: 'tuple' object has no attribute 'set_title'"
     ]
    },
    {
     "data": {
      "image/png": "[encoded data removed]",
      "text/plain": [
       "<Figure size 720x360 with 1 Axes>"
      ]
     },
     "metadata": {
      "needs_background": "light"
     },
     "output_type": "display_data"
    }
   ],
   "source": [
    "import pandas as pd\n",
    "import matplotlib.pyplot as plt\n",
    "\n",
    "shows = pd.Series([\"The Witcher\",\"Disenchantment\",\"Tiger King\",\"Ozark\",\"Stranger Things\"])\n",
    "ratings = pd.Series([8.2,7.2,7.6,8.4,8.7])\n",
    "\n",
    "shows_df = pd.DataFrame({\"Shows\":shows, \"Ratings\":ratings})\n",
    "print(shows_df)\n",
    "\n",
    "pos = list(range(len(shows_df['Ratings'])))\n",
    "width = 0.25\n",
    "\n",
    "ax = plt.subplots(figsize=(10,5))\n",
    "\n",
    "plt.bar(pos, shows_df['Ratings'], width, alpha=0.5, color='#EE3224')\n",
    "# Setting the y axis label\n",
    "#ax.set_ylabel('Ratings')\n",
    "# Setting the x axis label\n",
    "#ax.set_xlabel('Shows')\n",
    "\n",
    "# Setting the chart's title\n",
    "ax.set_title('Shows')\n",
    "\n",
    "# Setting the position of the x ticks\n",
    "ax.set_xticks([p + 1.5 * width for p in pos])\n",
    "\n",
    "# Setting the labels for the x ticks\n",
    "ax.set_xticklabels(shows_df['Shows'])\n",
    "\n",
    "# Setting the x-axis and y-axis limits\n",
    "plt.xlim(min(pos)-width, max(pos)+width*4)\n",
    "plt.ylim([0, max(shows_df['Shows'] + shows_df['Ratings'])])\n",
    "\n",
    "# Adding the legend and showing the plot\n",
    "plt.legend(['Shows', 'Rating'], loc='upper left')\n",
    "plt.grid()\n",
    "plt.show()"
   ]
  },
  {
   "cell_type": "markdown",
   "metadata": {},
   "source": [
    "**Question 8: Which of the following statements corretly creates a Matplotlib visualization with four subplots? (2 points)**\n",
    "\n",
    "A. `plt.subplot()`\n",
    "\n",
    "B. `plt.subplot(1,2,3,4)`\n",
    "\n",
    "C. `plt.subplot(1,4)`\n",
    "\n",
    "D. `plt.subplot(2,2,1)`"
   ]
  },
  {
   "cell_type": "code",
   "execution_count": 8,
   "metadata": {},
   "outputs": [],
   "source": [
    "C"
   ]
  },
  {
   "cell_type": "markdown",
   "metadata": {},
   "source": [
    "**Question 9: Which of the following Matplotlib methods would you use to add a label to your plot with an arrow pointing to the value? (2 points)**\n",
    "\n",
    "A. `plt.annotate()`\n",
    "\n",
    "B. `plt.label()`\n",
    "\n",
    "C. `plt.show()`\n",
    "\n",
    "D. `plt.arrow()`"
   ]
  },
  {
   "cell_type": "code",
   "execution_count": 9,
   "metadata": {},
   "outputs": [],
   "source": [
    "D"
   ]
  },
  {
   "cell_type": "markdown",
   "metadata": {},
   "source": [
    "**Question 10: Create a code block that performs the following operations: (15 points)**\n",
    "\n",
    "1. Import the `earthquakes_database.csv` file into a Pandas dataframe named `earthquakes`\n",
    "\n",
    "2. Retrieve the names of the unique data sources found in the `Source` column within your `earthquakes` dataframe.\n",
    "\n",
    "    * **Hint:** There should be 13 data sources.\n",
    "\n",
    "\n",
    "3. Create a Matplotlib scatterplot for each data source that visualizes the `Magnitude` (y-axis) versus `Depth` (x-axis). Be sure to add axis labels to your axes and title each plot with the name of the data source.\n",
    "\n",
    "    * **Note:** You will need to filter the `earthquakes` dataframe for each category type.\n"
   ]
  },
  {
   "cell_type": "code",
   "execution_count": 50,
   "metadata": {
    "scrolled": false
   },
   "outputs": [
    {
     "name": "stdout",
     "output_type": "stream",
     "text": [
      "           Date      Time  Latitude  Longitude        Type   Depth  \\\n",
      "0        1/2/65  13:44:18   19.2460   145.6160  Earthquake  131.60   \n",
      "1        1/4/65  11:29:49    1.8630   127.3520  Earthquake   80.00   \n",
      "2        1/5/65  18:05:58  -20.5790  -173.9720  Earthquake   20.00   \n",
      "3        1/8/65  18:49:43  -59.0760   -23.5570  Earthquake   15.00   \n",
      "4        1/9/65  13:32:50   11.9380   126.4270  Earthquake   15.00   \n",
      "...         ...       ...       ...        ...         ...     ...   \n",
      "23407  12/28/16   8:22:12   38.3917  -118.8941  Earthquake   12.30   \n",
      "23408  12/28/16   9:13:47   38.3777  -118.8957  Earthquake    8.80   \n",
      "23409  12/28/16  12:38:51   36.9179   140.4262  Earthquake   10.00   \n",
      "23410  12/29/16  22:30:19   -9.0283   118.6639  Earthquake   79.00   \n",
      "23411  12/30/16  20:08:28   37.3973   141.4103  Earthquake   11.94   \n",
      "\n",
      "       Depth Error  Depth Seismic Stations  Magnitude  10 ^ Magnitude  ...  \\\n",
      "0              NaN                     NaN        6.0    1.000000e+06  ...   \n",
      "1              NaN                     NaN        5.8    6.309573e+05  ...   \n",
      "2              NaN                     NaN        6.2    1.584893e+06  ...   \n",
      "3              NaN                     NaN        5.8    6.309573e+05  ...   \n",
      "4              NaN                     NaN        5.8    6.309573e+05  ...   \n",
      "...            ...                     ...        ...             ...  ...   \n",
      "23407          1.2                    40.0        5.6    3.981072e+05  ...   \n",
      "23408          2.0                    33.0        5.5    3.162278e+05  ...   \n",
      "23409          1.8                     NaN        5.9    7.943282e+05  ...   \n",
      "23410          1.8                     NaN        6.3    1.995262e+06  ...   \n",
      "23411          2.2                     NaN        5.5    3.162278e+05  ...   \n",
      "\n",
      "      Magnitude Seismic Stations  Azimuthal Gap  Horizontal Distance  \\\n",
      "0                            NaN            NaN                  NaN   \n",
      "1                            NaN            NaN                  NaN   \n",
      "2                            NaN            NaN                  NaN   \n",
      "3                            NaN            NaN                  NaN   \n",
      "4                            NaN            NaN                  NaN   \n",
      "...                          ...            ...                  ...   \n",
      "23407                       18.0          42.47                0.120   \n",
      "23408                       18.0          48.58                0.129   \n",
      "23409                        NaN          91.00                0.992   \n",
      "23410                        NaN          26.00                3.553   \n",
      "23411                      428.0          97.00                0.681   \n",
      "\n",
      "       Horizontal Error  Root Mean Square            ID  Source  \\\n",
      "0                   NaN               NaN  ISCGEM860706  ISCGEM   \n",
      "1                   NaN               NaN  ISCGEM860737  ISCGEM   \n",
      "2                   NaN               NaN  ISCGEM860762  ISCGEM   \n",
      "3                   NaN               NaN  ISCGEM860856  ISCGEM   \n",
      "4                   NaN               NaN  ISCGEM860890  ISCGEM   \n",
      "...                 ...               ...           ...     ...   \n",
      "23407               NaN            0.1898    NN00570710      NN   \n",
      "23408               NaN            0.2187    NN00570744      NN   \n",
      "23409               4.8            1.5200    US10007NAF      US   \n",
      "23410               6.0            1.4300    US10007NL0      US   \n",
      "23411               4.5            0.9100    US10007NTD      US   \n",
      "\n",
      "      Location Source Magnitude Source     Status  \n",
      "0              ISCGEM           ISCGEM  Automatic  \n",
      "1              ISCGEM           ISCGEM  Automatic  \n",
      "2              ISCGEM           ISCGEM  Automatic  \n",
      "3              ISCGEM           ISCGEM  Automatic  \n",
      "4              ISCGEM           ISCGEM  Automatic  \n",
      "...               ...              ...        ...  \n",
      "23407              NN               NN   Reviewed  \n",
      "23408              NN               NN   Reviewed  \n",
      "23409              US               US   Reviewed  \n",
      "23410              US               US   Reviewed  \n",
      "23411              US               US   Reviewed  \n",
      "\n",
      "[23412 rows x 22 columns]\n",
      "<class 'pandas.core.frame.DataFrame'>\n",
      "RangeIndex: 23412 entries, 0 to 23411\n",
      "Data columns (total 22 columns):\n",
      " #   Column                      Non-Null Count  Dtype  \n",
      "---  ------                      --------------  -----  \n",
      " 0   Date                        23412 non-null  object \n",
      " 1   Time                        23412 non-null  object \n",
      " 2   Latitude                    23412 non-null  float64\n",
      " 3   Longitude                   23412 non-null  float64\n",
      " 4   Type                        23412 non-null  object \n",
      " 5   Depth                       23412 non-null  float64\n",
      " 6   Depth Error                 4461 non-null   float64\n",
      " 7   Depth Seismic Stations      7097 non-null   float64\n",
      " 8   Magnitude                   23412 non-null  float64\n",
      " 9   10 ^ Magnitude              23412 non-null  float64\n",
      " 10  Magnitude Type              23409 non-null  object \n",
      " 11  Magnitude Error             327 non-null    float64\n",
      " 12  Magnitude Seismic Stations  2564 non-null   float64\n",
      " 13  Azimuthal Gap               7299 non-null   float64\n",
      " 14  Horizontal Distance         1604 non-null   float64\n",
      " 15  Horizontal Error            1156 non-null   float64\n",
      " 16  Root Mean Square            17352 non-null  float64\n",
      " 17  ID                          23412 non-null  object \n",
      " 18  Source                      23412 non-null  object \n",
      " 19  Location Source             23412 non-null  object \n",
      " 20  Magnitude Source            23412 non-null  object \n",
      " 21  Status                      23412 non-null  object \n",
      "dtypes: float64(13), object(9)\n",
      "memory usage: 3.9+ MB\n",
      "['ISCGEM' 'ISCGEMSUP' 'OFFICIAL' 'CI' 'US' 'NC' 'GCMT' 'UW' 'ATLAS' 'NN'\n",
      " 'SE' 'AK' 'PR']\n"
     ]
    },
    {
     "ename": "ValueError",
     "evalue": "The truth value of a Series is ambiguous. Use a.empty, a.bool(), a.item(), a.any() or a.all().",
     "output_type": "error",
     "traceback": [
      "\u001b[1;31m---------------------------------------------------------------------------\u001b[0m",
      "\u001b[1;31mValueError\u001b[0m                                Traceback (most recent call last)",
      "\u001b[1;32m<ipython-input-50-1e4dbef92a3f>\u001b[0m in \u001b[0;36m<module>\u001b[1;34m\u001b[0m\n\u001b[0;32m     14\u001b[0m     \u001b[1;32mfor\u001b[0m \u001b[0mtype\u001b[0m \u001b[1;32min\u001b[0m \u001b[0mtype_df\u001b[0m\u001b[1;33m:\u001b[0m\u001b[1;33m\u001b[0m\u001b[1;33m\u001b[0m\u001b[0m\n\u001b[0;32m     15\u001b[0m         \u001b[1;31m# Find all types grouped by source\u001b[0m\u001b[1;33m\u001b[0m\u001b[1;33m\u001b[0m\u001b[1;33m\u001b[0m\u001b[0m\n\u001b[1;32m---> 16\u001b[1;33m         \u001b[0mmag_depth_df\u001b[0m \u001b[1;33m=\u001b[0m \u001b[0meq_df\u001b[0m\u001b[1;33m.\u001b[0m\u001b[0mloc\u001b[0m\u001b[1;33m[\u001b[0m\u001b[0meq_df\u001b[0m\u001b[1;33m[\u001b[0m\u001b[1;34m'Source'\u001b[0m\u001b[1;33m]\u001b[0m \u001b[1;33m==\u001b[0m \u001b[0msource\u001b[0m \u001b[1;32mand\u001b[0m \u001b[0meq_df\u001b[0m\u001b[1;33m[\u001b[0m\u001b[1;34m'Type'\u001b[0m\u001b[1;33m]\u001b[0m \u001b[1;33m==\u001b[0m \u001b[0mtype\u001b[0m\u001b[1;33m,\u001b[0m\u001b[1;34m'Magnitude'\u001b[0m\u001b[1;33m,\u001b[0m\u001b[1;34m'Depth'\u001b[0m\u001b[1;33m]\u001b[0m\u001b[1;33m\u001b[0m\u001b[1;33m\u001b[0m\u001b[0m\n\u001b[0m\u001b[0;32m     17\u001b[0m         \u001b[0mprint\u001b[0m\u001b[1;33m(\u001b[0m\u001b[0mmag_depth_df\u001b[0m\u001b[1;33m)\u001b[0m\u001b[1;33m\u001b[0m\u001b[1;33m\u001b[0m\u001b[0m\n",
      "\u001b[1;32mC:\\ProgramData\\Anaconda3\\lib\\site-packages\\pandas\\core\\generic.py\u001b[0m in \u001b[0;36m__nonzero__\u001b[1;34m(self)\u001b[0m\n\u001b[0;32m   1440\u001b[0m     \u001b[1;33m@\u001b[0m\u001b[0mfinal\u001b[0m\u001b[1;33m\u001b[0m\u001b[1;33m\u001b[0m\u001b[0m\n\u001b[0;32m   1441\u001b[0m     \u001b[1;32mdef\u001b[0m \u001b[0m__nonzero__\u001b[0m\u001b[1;33m(\u001b[0m\u001b[0mself\u001b[0m\u001b[1;33m)\u001b[0m\u001b[1;33m:\u001b[0m\u001b[1;33m\u001b[0m\u001b[1;33m\u001b[0m\u001b[0m\n\u001b[1;32m-> 1442\u001b[1;33m         raise ValueError(\n\u001b[0m\u001b[0;32m   1443\u001b[0m             \u001b[1;34mf\"The truth value of a {type(self).__name__} is ambiguous. \"\u001b[0m\u001b[1;33m\u001b[0m\u001b[1;33m\u001b[0m\u001b[0m\n\u001b[0;32m   1444\u001b[0m             \u001b[1;34m\"Use a.empty, a.bool(), a.item(), a.any() or a.all().\"\u001b[0m\u001b[1;33m\u001b[0m\u001b[1;33m\u001b[0m\u001b[0m\n",
      "\u001b[1;31mValueError\u001b[0m: The truth value of a Series is ambiguous. Use a.empty, a.bool(), a.item(), a.any() or a.all()."
     ]
    }
   ],
   "source": [
    "import pandas as pd\n",
    "import matplotlib.pyplot as plt\n",
    "\n",
    "eq_df = pd.read_csv (r'.\\earthquakes_database.csv')\n",
    "print (eq_df)\n",
    "\n",
    "eq_df.info()\n",
    "\n",
    "source_df = eq_df['Source'].unique().astype(str)\n",
    "print (source_df)\n",
    "\n",
    "type_df = eq_df['Type'].unique().astype(str)\n",
    "for source in source_df:\n",
    "    for type in type_df:\n",
    "        # Find all types grouped by source\n",
    "        mag_depth_df = eq_df.loc[eq_df['Source'] == source and eq_df['Type'] == type,'Magnitude','Depth']\n",
    "        print(mag_depth_df)"
   ]
  },
  {
   "cell_type": "code",
   "execution_count": null,
   "metadata": {},
   "outputs": [],
   "source": []
  }
 ],
 "metadata": {
  "kernelspec": {
   "display_name": "Python 3",
   "language": "python",
   "name": "python3"
  },
  "language_info": {
   "codemirror_mode": {
    "name": "ipython",
    "version": 3
   },
   "file_extension": ".py",
   "mimetype": "text/x-python",
   "name": "python",
   "nbconvert_exporter": "python",
   "pygments_lexer": "ipython3",
   "version": "3.8.8"
  }
 },
 "nbformat": 4,
 "nbformat_minor": 4
}
